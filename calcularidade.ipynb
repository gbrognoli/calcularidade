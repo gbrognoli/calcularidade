from datetime import date, datetime

def calcular_idade(data_nascimento):
    hoje = date.today()
    ano_nascimento = data_nascimento.year
    idade = hoje.year - ano_nascimento
    if hoje.month < data_nascimento.month or (hoje.month == data_nascimento.month and hoje.day < data_nascimento.day):
        idade -= 1
    return idade

data_str = input("Digite sua data de nascimento no formato dd/mm/yyyy: ")
data_nascimento = datetime.strptime(data_str, "%d/%m/%Y").date()
idade = calcular_idade(data_nascimento)
print(f'Sua idade é: {idade} anos')
